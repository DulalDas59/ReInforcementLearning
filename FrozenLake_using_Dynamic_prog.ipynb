{
 "cells": [
  {
   "cell_type": "markdown",
   "metadata": {
    "id": "X-esBKiYJuuW"
   },
   "source": [
    "\n"
   ]
  },
  {
   "cell_type": "markdown",
   "metadata": {
    "id": "ijz4WQw_JuuX"
   },
   "source": [
    "1.**Problem statement**:\n",
    "\n",
    "* Develop a reinforcement learning agent using dynamic programming to solve the Treasure Hunt problem in a FrozenLake environment. The agent must learn the optimal policy for navigating the lake while avoiding holes and maximizing its treasure collection.\n",
    "\n",
    "2.**Scenario**:\n",
    "* A treasure hunter is navigating a slippery 5x5 FrozenLake grid. The objective is to navigate through the lake collecting treasures while avoiding holes and ultimately reaching the exit (goal).\n",
    "Grid positions on a 5x5 map with tiles labeled as S, F, H, G, T. The state includes the current position of the agent and whether treasures have been collected.\n",
    "\n",
    "\n",
    "#### Objective\n",
    "* The agent must learn the optimal policy π* using dynamic programming to maximize its cumulative reward while navigating the lake.\n",
    "\n",
    "#### About the environment\n",
    "\n",
    "The environment consists of several types of tiles:\n",
    "* Start (S): The initial position of the agent, safe to step.\n",
    "* Frozen Tiles (F): Frozen surface, safe to step.\n",
    "* Hole (H): Falling into a hole ends the game immediately (die, end).\n",
    "* Goal (G): Exit point; reaching here ends the game successfully (safe, end).\n",
    "* Treasure Tiles (T): Added to the environment. Stepping on these tiles awards +5 reward but does not end the game.\n",
    "\n",
    "After stepping on a treasure tile, it becomes a frozen tile (F).\n",
    "The agent earns rewards as follows:\n",
    "* Reaching the goal (G): +10 reward.\n",
    "* Falling into a hole (H): -10 reward.\n",
    "* Collecting a treasure (T): +5 reward.\n",
    "* Stepping on a frozen tile (F): 0 reward.\n",
    "\n",
    "#### States\n",
    "* Current position of the agent (row, column).\n",
    "* A boolean flag (or equivalent) for whether each treasure has been collected.\n",
    "\n",
    "#### Actions\n",
    "* Four possible moves: up, down, left, right\n",
    "\n",
    "#### Rewards\n",
    "* Goal (G): +10.\n",
    "* Treasure (T): +5 per treasure.\n",
    "* Hole (H): -10.\n",
    "* Frozen tiles (F): 0.\n",
    "\n",
    "#### Environment\n",
    "Modify the FrozenLake environment in OpenAI Gym to include treasures (T) at certain positions. Inherit the original FrozenLakeEnv and modify the reset and step methods accordingly.\n",
    "Example grid:\n",
    "\n",
    "![image.png](attachment:image.png)\n"
   ]
  },
  {
   "cell_type": "markdown",
   "metadata": {
    "id": "yreknYaHJuuX"
   },
   "source": []
  },
  {
   "cell_type": "markdown",
   "metadata": {
    "id": "7STD9KqZJuuX"
   },
   "source": [
    "**Expected Outcomes:**\n",
    "1.\tCreate the custom environment by modifying the existing “FrozenLakeNotSlippery-v0” in OpenAI Gym and Implement the dynamic programming using value iteration and policy improvement to learn the optimal policy for the Treasure Hunt problem.\n",
    "2.\tCalculate the state-value function (V*) for each state on the map after learning the optimal policy.\n",
    "3.\tCompare the agent’s performance with and without treasures, discussing the trade-offs in reward maximization.\n",
    "4.\tVisualize the agent’s direction on the map using the learned policy.\n",
    "5.\tCalculate expected total reward over multiple episodes to evaluate performance."
   ]
  },
  {
   "cell_type": "markdown",
   "metadata": {
    "id": "ucNdoVjiJuuX"
   },
   "source": [
    "### Import required libraries and Define the custom environment - 2 Marks"
   ]
  },
  {
   "cell_type": "code",
   "execution_count": 1,
   "metadata": {
    "id": "5iUslFumJuuY"
   },
   "outputs": [],
   "source": [
    "# Import statements\n",
    "import gym\n",
    "import numpy as np\n",
    "import random\n",
    "import gym\n",
    "import matplotlib.pyplot as plt\n",
    "from gym.envs.toy_text.frozen_lake import FrozenLakeEnv"
   ]
  },
  {
   "cell_type": "code",
   "execution_count": null,
   "metadata": {
    "id": "Ca4yzprlJuuY"
   },
   "outputs": [],
   "source": [
    "# Custom environment to create the given grid and respective functions that are required for the problem\n",
    "\n",
    "#Include functions to take an action, get reward, to check if episode is over"
   ]
  },
  {
   "cell_type": "code",
   "execution_count": 2,
   "metadata": {
    "id": "KzUj13ejKp9v"
   },
   "outputs": [],
   "source": [
    "\n",
    "# Modify the FrozenLake environment to include treasure tiles\n",
    "class TreasureHuntEnv(FrozenLakeEnv):\n",
    "    def __init__(self):\n",
    "        # Define a custom 5x5 map with the grid\n",
    "        desc = [\n",
    "            \"SFFHT\",\n",
    "            \"FHFFF\",\n",
    "            \"FFFTH\",\n",
    "            \"TFFHF\",\n",
    "            \"FFFFG\",\n",
    "        ]\n",
    "        super(TreasureHuntEnv, self).__init__(desc=desc, is_slippery=False)\n",
    "\n",
    "        self.grid = [\n",
    "            ['S', 'F', 'F', 'H', 'T'],\n",
    "            ['F', 'H', 'F', 'F', 'F'],\n",
    "            ['F', 'F', 'F', 'T', 'F'],\n",
    "            ['T', 'F', 'H', 'F', 'F'],\n",
    "            ['F', 'F', 'F', 'F', 'G']\n",
    "        ]\n",
    "        self.treasure_positions = [(0, 4), (2, 3), (3, 0)]\n",
    "        self.agent_position = (0, 0)\n",
    "        self.treasures_collected = 0\n",
    "        self.done = False\n",
    "        self.reward = 0\n",
    "        self.actions = [0, 1, 2, 3]  # up, down, left, right\n",
    "        self.P = self._build_transition_model()\n",
    "\n",
    "    def _build_transition_model(self):\n",
    "        P = {s: {a: [] for a in self.actions} for s in range(25)}\n",
    "\n",
    "        for row in range(5):\n",
    "            for col in range(5):\n",
    "                state = row * 5 + col\n",
    "                for action in self.actions:\n",
    "                    next_state, reward, done = self._take_action((row, col), action)\n",
    "                    P[state][action] = [(1.0, next_state, reward, done)]\n",
    "\n",
    "        return P\n",
    "\n",
    "    def reset(self):\n",
    "        self.agent_position = (0, 0)\n",
    "        self.treasures_collected = 0\n",
    "        self.done = False\n",
    "        self.reward = 0\n",
    "        return self.get_state()\n",
    "\n",
    "    def step(self, action):\n",
    "        if self.done:\n",
    "            return self.get_state(), self.reward, self.done, {}\n",
    "\n",
    "        row, col = self.agent_position\n",
    "        if action == 0:  # up\n",
    "            row = max(0, row - 1)\n",
    "        elif action == 1:  # down\n",
    "            row = min(4, row + 1)\n",
    "        elif action == 2:  # left\n",
    "            col = max(0, col - 1)\n",
    "        elif action == 3:  # right\n",
    "            col = min(4, col + 1)\n",
    "\n",
    "        self.agent_position = (row, col)\n",
    "        tile = self.grid[row][col]\n",
    "\n",
    "        if tile == 'H':\n",
    "            self.reward = -10\n",
    "            self.done = True\n",
    "        elif tile == 'T':\n",
    "            self.reward = 5\n",
    "            self.treasures_collected += 1\n",
    "            self.grid[row][col] = 'F'  # Change treasure to frozen tile after collection\n",
    "        elif tile == 'G':\n",
    "            self.reward = 10\n",
    "            self.done = True\n",
    "        else:\n",
    "            self.reward = 0\n",
    "\n",
    "        return self.get_state(), self.reward, self.done, {}\n",
    "\n",
    "    def get_state(self):\n",
    "        row, col = self.agent_position\n",
    "        return row * 5 + col  # Map 2D position to 1D state\n",
    "\n",
    "    def _take_action(self, position, action):\n",
    "        row, col = position\n",
    "        if action == 0:  # up\n",
    "            row = max(0, row - 1)\n",
    "        elif action == 1:  # down\n",
    "            row = min(4, row + 1)\n",
    "        elif action == 2:  # left\n",
    "            col = max(0, col - 1)\n",
    "        elif action == 3:  # right\n",
    "            col = min(4, col + 1)\n",
    "\n",
    "        tile = self.grid[row][col]\n",
    "        if tile == 'H':\n",
    "            return row * 5 + col, -10, True  # Hole -> end game with negative reward\n",
    "        elif tile == 'T':\n",
    "            return row * 5 + col, 5, False  # Treasure -> reward and continue\n",
    "        elif tile == 'G':\n",
    "            return row * 5 + col, 10, True  # Goal -> end game with positive reward\n",
    "        else:\n",
    "            return row * 5 + col, 0, False  # Frozen tile -> continue with no reward\n",
    "\n",
    "# Modify the FrozenLake environment without treasure tiles\n",
    "class TreasureHuntEnvNoTreasure(TreasureHuntEnv):\n",
    "    def __init__(self):\n",
    "        super(TreasureHuntEnvNoTreasure, self).__init__()\n",
    "        # Remove treasure tiles and change them to frozen tiles\n",
    "        for r in range(5):\n",
    "            for c in range(5):\n",
    "                if self.grid[r][c] == 'T':\n",
    "                    self.grid[r][c] = 'F'\n"
   ]
  },
  {
   "cell_type": "markdown",
   "metadata": {
    "id": "Zo7zSjh3JuuY"
   },
   "source": [
    "### Value Iteration Algorithm - 1 Mark"
   ]
  },
  {
   "cell_type": "code",
   "execution_count": 3,
   "metadata": {
    "id": "a3Tw0p9_JuuY"
   },
   "outputs": [],
   "source": [
    "# Value Iteration function\n",
    "def value_iteration(env):\n",
    "    num_iterations = 1000\n",
    "    threshold = 1e-20\n",
    "    gamma = 0.9\n",
    "    value_table = np.zeros(env.observation_space.n)\n",
    "    for i in range(num_iterations):\n",
    "        updated_value_table = np.copy(value_table)\n",
    "        for s in range(env.observation_space.n):\n",
    "            Q_values = [sum([prob*(r + gamma * updated_value_table[s_])\n",
    "                             for prob, s_, r, _ in env.P[s][a]])\n",
    "                        for a in range(env.action_space.n)]\n",
    "            value_table[s] = max(Q_values)\n",
    "        if np.sum(np.fabs(updated_value_table - value_table)) <= threshold:\n",
    "            break\n",
    "    return value_table\n",
    "\n",
    "# Extract Policy based on Value Table\n",
    "def extract_policy(value_table, env):\n",
    "    gamma = 0.9\n",
    "    policy_vi = np.zeros(env.observation_space.n)\n",
    "    for s in range(env.observation_space.n):\n",
    "        Q_values = [sum([prob*(r + gamma * value_table[s_])\n",
    "                         for prob, s_, r, _ in env.P[s][a]])\n",
    "                    for a in range(env.action_space.n)]\n",
    "        policy_vi[s] = np.argmax(np.array(Q_values))\n",
    "    return policy_vi"
   ]
  },
  {
   "cell_type": "markdown",
   "metadata": {
    "id": "_niz2bW2JuuY"
   },
   "source": [
    "### Policy Improvement Function - 1 Mark"
   ]
  },
  {
   "cell_type": "code",
   "execution_count": 4,
   "metadata": {
    "id": "VOjxmwQ5JuuZ"
   },
   "outputs": [],
   "source": [
    "# Compute value function for policy iteration\n",
    "def compute_value_function(policy_pi, env):\n",
    "    num_iterations = 1000\n",
    "    threshold = 1e-20\n",
    "    gamma = 0.9\n",
    "    value_table = np.zeros(env.observation_space.n)\n",
    "    for i in range(num_iterations):\n",
    "        updated_value_table = np.copy(value_table)\n",
    "        for s in range(env.observation_space.n):\n",
    "            a = policy_pi[s]\n",
    "            value_table[s] = sum([prob * (r + gamma * updated_value_table[s_])\n",
    "                                  for prob, s_, r, _ in env.P[s][a]])\n",
    "        if np.sum(np.fabs(updated_value_table - value_table)) <= threshold:\n",
    "            break\n",
    "    return value_table\n",
    "\n",
    "# Policy Iteration function\n",
    "def policy_iteration(env):\n",
    "    num_iterations = 1000\n",
    "    policy_pi = np.zeros(env.observation_space.n)\n",
    "    for i in range(num_iterations):\n",
    "        value_function = compute_value_function(policy_pi, env)\n",
    "        new_policy = extract_policy(value_function, env)\n",
    "        if np.all(policy_pi == new_policy):\n",
    "            break\n",
    "        policy_pi = new_policy\n",
    "    return policy_pi"
   ]
  },
  {
   "cell_type": "markdown",
   "metadata": {
    "id": "18dEwZOxJuuZ"
   },
   "source": [
    "### Print the Optimal Value Function"
   ]
  },
  {
   "cell_type": "code",
   "execution_count": 24,
   "metadata": {
    "id": "ougjacdgJuuZ"
   },
   "outputs": [],
   "source": [
    "def main_function():\n",
    "# Create the environments\n",
    "    env_with_treasure = TreasureHuntEnv()\n",
    "    env_without_treasure = TreasureHuntEnvNoTreasure()\n",
    "\n",
    "    # Perform value iteration for environment with treasures\n",
    "    optimal_value_function_with_treasure = value_iteration(env_with_treasure)\n",
    "    optimal_policy_with_treasure = extract_policy(optimal_value_function_with_treasure, env_with_treasure)\n",
    "    print(\"Optimal Value Function (With Treasure Tiles):\")\n",
    "    print(optimal_value_function_with_treasure.reshape(5, 5))\n",
    "    print(\"Optimal Policy (With Treasure Tiles):\")\n",
    "    print(optimal_policy_with_treasure.reshape(5, 5))\n",
    "\n",
    "    # Perform value iteration for environment without treasures\n",
    "    optimal_value_function_without_treasure = value_iteration(env_without_treasure)\n",
    "    optimal_policy_without_treasure = extract_policy(optimal_value_function_without_treasure, env_without_treasure)\n",
    "\n",
    "    # Evaluate performance with treasures\n",
    "    episode_rewards_with_treasure, avg_reward_with_treasure = run_agent(env_with_treasure, optimal_policy_with_treasure) # Capture the return values\n",
    "    print(f\"Average Reward with Treasures: {avg_reward_with_treasure}\")\n",
    "\n",
    "    # Evaluate performance without treasures\n",
    "    episode_rewards_without_treasure, avg_reward_without_treasure = run_agent(env_without_treasure, optimal_policy_without_treasure) # Capture the return values\n",
    "    print(f\"Average Reward without Treasures: {avg_reward_without_treasure}\")\n",
    "\n",
    "    # Visualize the optimal policy\n",
    "    visualize_policy(optimal_policy_with_treasure, env_with_treasure)\n",
    "\n",
    "    # Compare and discuss the trade-offs\n",
    "    if avg_reward_with_treasure > avg_reward_without_treasure:\n",
    "        print(\"The agent performs better with treasures, as it can collect rewards, despite the risks.\")\n",
    "    elif avg_reward_with_treasure < avg_reward_without_treasure:\n",
    "        print(\"The agent performs better without treasures, likely due to fewer risks and more direct paths to the goal.\")\n",
    "    else:\n",
    "        print(\"The agent performs equally well with and without treasures.\")\n",
    "\n",
    "    # Discuss Trade-offs\n",
    "    print(\"\\nDiscussion of Trade-offs in Reward Maximization:\")\n",
    "    print(\"- With treasures: The agent might perform better in terms of cumulative rewards due to the additional +5 reward for collecting treasures. However, it may also face more challenges, such as navigating around holes and avoiding risky paths.\")\n",
    "    print(\"- Without treasures: The agent focuses solely on reaching the goal while avoiding holes. This simplifies the policy but reduces reward potential.\")\n",
    "    print(\"- Trade-off: Adding treasures incentivizes exploration and increases overall rewards but complicates the policy due to additional reward sources.\")\n",
    "    # Set num_episodes before plotting\n",
    "    num_episodes = 1000\n",
    "    cumulative_rewards = np.cumsum(episode_rewards_with_treasure)\n",
    "    # Plot the results\n",
    "    cumulative_rewards_with_treasure = np.cumsum(episode_rewards_with_treasure)\n",
    "    plt.figure(figsize=(10, 6))\n",
    "    plt.plot(range(1, len(cumulative_rewards_with_treasure) + 1), cumulative_rewards_with_treasure, label=\"Cumulative Rewards (With Treasure)\", color='blue')\n",
    "    plt.title(\"Policy Performance: Cumulative Rewards vs. Number of Episodes\")\n",
    "    plt.xlabel(\"Number of Episodes\")\n",
    "    plt.ylabel(\"Cumulative Rewards\")\n",
    "    plt.legend()\n",
    "    plt.grid()\n",
    "    plt.show()"
   ]
  },
  {
   "cell_type": "markdown",
   "metadata": {
    "id": "VvfZbgDtJuuZ"
   },
   "source": [
    "### Visualization of the learned optimal policy - 1 Mark"
   ]
  },
  {
   "cell_type": "code",
   "execution_count": 6,
   "metadata": {
    "id": "sfThnzu6JuuZ"
   },
   "outputs": [],
   "source": [
    "def visualize_policy(policy_pi, env):\n",
    "    action_map = {0: '↑', 1: '↓', 2: '←', 3: '→'}\n",
    "    grid = [[' ' for _ in range(5)] for _ in range(5)]\n",
    "\n",
    "    # Place the arrows on the grid based on the policy\n",
    "    for state in range(env.observation_space.n):\n",
    "        row, col = divmod(state, 5)\n",
    "        action = int(policy_pi[state])  # Get action for the state from the policy\n",
    "        grid[row][col] = action_map[action]\n",
    "    # Print the grid with arrows\n",
    "    print(\"\\nOptimal Policy (with arrows for direction):\")\n",
    "    for row in grid:\n",
    "        print(\" \".join(row))"
   ]
  },
  {
   "cell_type": "markdown",
   "metadata": {
    "id": "gxf9f3qHJuuZ"
   },
   "source": [
    "### Evaluate the policy - 1 Mark"
   ]
  },
  {
   "cell_type": "code",
   "execution_count": 28,
   "metadata": {
    "id": "xFid4VmVJuuZ"
   },
   "outputs": [],
   "source": [
    "def run_agent(env, policy_pi, num_episodes=1000):\n",
    "    episode_rewards = []  # To store rewards for each episode\n",
    "    for _ in range(num_episodes):\n",
    "        state = env.reset()\n",
    "        done = False\n",
    "        episode_reward = 0\n",
    "        while not done:\n",
    "            action = int(policy_pi[state])  # Use policy to choose action\n",
    "            state, reward, done, info = env.step(action)\n",
    "            episode_reward += reward\n",
    "        episode_rewards.append(episode_reward)  # Track reward for this episode\n",
    "    avg_reward = np.mean(episode_rewards)  # Calculate the average reward\n",
    "    return episode_rewards, avg_reward"
   ]
  },
  {
   "cell_type": "markdown",
   "metadata": {
    "id": "HfowXq_cJuuZ"
   },
   "source": [
    "### Main Execution"
   ]
  },
  {
   "cell_type": "code",
   "execution_count": 29,
   "metadata": {
    "colab": {
     "base_uri": "https://localhost:8080/",
     "height": 1000
    },
    "id": "uUExJkMKJuuZ",
    "outputId": "4f072fed-c119-42e9-e584-9a38e049011b"
   },
   "outputs": [
    {
     "name": "stdout",
     "output_type": "stream",
     "text": [
      "Optimal Value Function (With Treasure Tiles):\n",
      "[[ 51.87969  56.7891   63.099    70.61     72.9    ]\n",
      " [ 57.6441   63.099    70.11     77.9      81.     ]\n",
      " [ 64.049    70.11     77.9      81.       90.     ]\n",
      " [ 65.61     72.9      81.       90.      100.     ]\n",
      " [ 72.9      81.       90.      100.      100.     ]]\n",
      "Optimal Policy (With Treasure Tiles):\n",
      "[[1. 3. 1. 3. 1.]\n",
      " [1. 1. 1. 1. 1.]\n",
      " [1. 3. 3. 1. 1.]\n",
      " [1. 1. 1. 1. 1.]\n",
      " [3. 3. 3. 3. 1.]]\n",
      "Average Reward with Treasures: 10.005\n",
      "Average Reward without Treasures: 10.0\n",
      "\n",
      "Optimal Policy (with arrows for direction):\n",
      "↓ → ↓ → ↓\n",
      "↓ ↓ ↓ ↓ ↓\n",
      "↓ → → ↓ ↓\n",
      "↓ ↓ ↓ ↓ ↓\n",
      "→ → → → ↓\n",
      "The agent performs better with treasures, as it can collect rewards, despite the risks.\n",
      "\n",
      "Discussion of Trade-offs in Reward Maximization:\n",
      "- With treasures: The agent might perform better in terms of cumulative rewards due to the additional +5 reward for collecting treasures. However, it may also face more challenges, such as navigating around holes and avoiding risky paths.\n",
      "- Without treasures: The agent focuses solely on reaching the goal while avoiding holes. This simplifies the policy but reduces reward potential.\n",
      "- Trade-off: Adding treasures incentivizes exploration and increases overall rewards but complicates the policy due to additional reward sources.\n"
     ]
    },
    {
     "data": {
      "image/png": "[encoded data removed]",
      "text/plain": [
       "<Figure size 1000x600 with 1 Axes>"
      ]
     },
     "metadata": {},
     "output_type": "display_data"
    }
   ],
   "source": [
    "# Main Execution\n",
    "if __name__ == \"__main__\":\n",
    "    main_function()"
   ]
  },
  {
   "cell_type": "markdown",
   "metadata": {
    "id": "Fu2O2b40JuuZ"
   },
   "source": []
  }
 ],
 "metadata": {
  "colab": {
   "provenance": []
  },
  "kernelspec": {
   "display_name": "Python 3 (ipykernel)",
   "language": "python",
   "name": "python3"
  },
  "language_info": {
   "codemirror_mode": {
    "name": "ipython",
    "version": 3
   },
   "file_extension": ".py",
   "mimetype": "text/x-python",
   "name": "python",
   "nbconvert_exporter": "python",
   "pygments_lexer": "ipython3",
   "version": "3.13.1"
  }
 },
 "nbformat": 4,
 "nbformat_minor": 4
}
